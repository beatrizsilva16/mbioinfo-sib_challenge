{
 "cells": [
  {
   "cell_type": "markdown",
   "metadata": {
    "collapsed": true,
    "pycharm": {
     "name": "#%% md\n"
    }
   },
   "source": [
    "# TRABALHO SIB"
   ]
  },
  {
   "cell_type": "markdown",
   "source": [
    "## Secção 1"
   ],
   "metadata": {
    "collapsed": false,
    "pycharm": {
     "name": "#%% md\n"
    }
   }
  },
  {
   "cell_type": "markdown",
   "source": [
    "### Exploração inicial e pré-processamento\n",
    "• Rever toda a documentação disponível sobre o conjunto de dados.\n",
    "• Carregar o conjunto de dados e realizar uma análise exploratória do mesmo.\n",
    "• Realizar os passos necessários de preparação dos dados e pré-processamento,\n",
    "incluindo possivelmente a geração de atributos, a sua seleção, o tratamento de\n",
    "possíveis valores em falta, etc.\n",
    "\n",
    "Esta etapa deve corresponder à secção 1 do Notebook onde deverá:\n",
    "• descrever e caracterizar os dados atribuídos de acordo com a documentação/\n",
    "literatura existente;\n",
    "• descrever sucintamente as características dos dados disponíveis a partir da\n",
    "análise exploratória inicial;\n",
    "• descrever os passos de preparação dos dados e pré-processamento que efetuou,\n",
    "justificando as suas escolhas;\n",
    "• incluir os gráficos exploratórios iniciais que ilustrem as principais características\n",
    "dos dados."
   ],
   "metadata": {
    "collapsed": false,
    "pycharm": {
     "name": "#%% md\n"
    }
   }
  },
  {
   "cell_type": "code",
   "execution_count": 2,
   "outputs": [],
   "source": [
    "import numpy as np\n",
    "import pandas as pd\n",
    "import matplotlib.pyplot as plt\n",
    "# para desenhar os gráficos dentro do notebook\n",
    "%matplotlib inline\n"
   ],
   "metadata": {
    "collapsed": false,
    "pycharm": {
     "name": "#%%\n"
    }
   }
  },
  {
   "cell_type": "code",
   "execution_count": 3,
   "outputs": [
    {
     "data": {
      "text/plain": "       seq_id                                   protein_sequence   pH  \\\n0           0  AAAAKAAALALLGEAPEVVDIWLPAGWRQPFRVFRLERKGDGVLVG...  7.0   \n1           1  AAADGEPLHNEEERAGAGQVGRSLPQESEEQRTGSRPRRRRDLGSR...  7.0   \n2           2  AAAFSTPRATSYRILSSAGSGSTRADAPQVRRLHTTRDLLAKDYYA...  7.0   \n3           3  AAASGLRTAIPAQPLRHLLQPAPRPCLRPFGLLSVRAGSARRSGLL...  7.0   \n4           4  AAATKSGPRRQSQGASVRTFTPFYFLVEPVDTLSVRGSSVILNCSA...  7.0   \n...       ...                                                ...  ...   \n31385   31385  YYMYSGGGSALAAGGGGAGRKGDWNDIDSIKKKDLHHSRGDEKAQG...  7.0   \n31386   31386  YYNDQHRLSSYSVETAMFLSWERAIVKPGAMFKKAVIGFNCNVDLI...  7.0   \n31387   31387  YYQRTLGAELLYKISFGEMPKSAQDSAENCPSGMQFPDTAIAHANV...  7.0   \n31388   31388  YYSFSDNITTVFLSRQAIDDDHSLSLGTISDVVESENGVVAADDAR...  7.0   \n31389   31389  YYVPDEYWQSLEVAHKLTFGYGYLTWEWVQGIRSYVYPLLIAGLYK...  7.0   \n\n                             data_source    tm  \n0      doi.org/10.1038/s41592-020-0801-4  75.7  \n1      doi.org/10.1038/s41592-020-0801-4  50.5  \n2      doi.org/10.1038/s41592-020-0801-4  40.5  \n3      doi.org/10.1038/s41592-020-0801-4  47.2  \n4      doi.org/10.1038/s41592-020-0801-4  49.5  \n...                                  ...   ...  \n31385  doi.org/10.1038/s41592-020-0801-4  51.8  \n31386  doi.org/10.1038/s41592-020-0801-4  37.2  \n31387  doi.org/10.1038/s41592-020-0801-4  64.6  \n31388  doi.org/10.1038/s41592-020-0801-4  50.7  \n31389  doi.org/10.1038/s41592-020-0801-4  37.6  \n\n[31390 rows x 5 columns]",
      "text/html": "<div>\n<style scoped>\n    .dataframe tbody tr th:only-of-type {\n        vertical-align: middle;\n    }\n\n    .dataframe tbody tr th {\n        vertical-align: top;\n    }\n\n    .dataframe thead th {\n        text-align: right;\n    }\n</style>\n<table border=\"1\" class=\"dataframe\">\n  <thead>\n    <tr style=\"text-align: right;\">\n      <th></th>\n      <th>seq_id</th>\n      <th>protein_sequence</th>\n      <th>pH</th>\n      <th>data_source</th>\n      <th>tm</th>\n    </tr>\n  </thead>\n  <tbody>\n    <tr>\n      <th>0</th>\n      <td>0</td>\n      <td>AAAAKAAALALLGEAPEVVDIWLPAGWRQPFRVFRLERKGDGVLVG...</td>\n      <td>7.0</td>\n      <td>doi.org/10.1038/s41592-020-0801-4</td>\n      <td>75.7</td>\n    </tr>\n    <tr>\n      <th>1</th>\n      <td>1</td>\n      <td>AAADGEPLHNEEERAGAGQVGRSLPQESEEQRTGSRPRRRRDLGSR...</td>\n      <td>7.0</td>\n      <td>doi.org/10.1038/s41592-020-0801-4</td>\n      <td>50.5</td>\n    </tr>\n    <tr>\n      <th>2</th>\n      <td>2</td>\n      <td>AAAFSTPRATSYRILSSAGSGSTRADAPQVRRLHTTRDLLAKDYYA...</td>\n      <td>7.0</td>\n      <td>doi.org/10.1038/s41592-020-0801-4</td>\n      <td>40.5</td>\n    </tr>\n    <tr>\n      <th>3</th>\n      <td>3</td>\n      <td>AAASGLRTAIPAQPLRHLLQPAPRPCLRPFGLLSVRAGSARRSGLL...</td>\n      <td>7.0</td>\n      <td>doi.org/10.1038/s41592-020-0801-4</td>\n      <td>47.2</td>\n    </tr>\n    <tr>\n      <th>4</th>\n      <td>4</td>\n      <td>AAATKSGPRRQSQGASVRTFTPFYFLVEPVDTLSVRGSSVILNCSA...</td>\n      <td>7.0</td>\n      <td>doi.org/10.1038/s41592-020-0801-4</td>\n      <td>49.5</td>\n    </tr>\n    <tr>\n      <th>...</th>\n      <td>...</td>\n      <td>...</td>\n      <td>...</td>\n      <td>...</td>\n      <td>...</td>\n    </tr>\n    <tr>\n      <th>31385</th>\n      <td>31385</td>\n      <td>YYMYSGGGSALAAGGGGAGRKGDWNDIDSIKKKDLHHSRGDEKAQG...</td>\n      <td>7.0</td>\n      <td>doi.org/10.1038/s41592-020-0801-4</td>\n      <td>51.8</td>\n    </tr>\n    <tr>\n      <th>31386</th>\n      <td>31386</td>\n      <td>YYNDQHRLSSYSVETAMFLSWERAIVKPGAMFKKAVIGFNCNVDLI...</td>\n      <td>7.0</td>\n      <td>doi.org/10.1038/s41592-020-0801-4</td>\n      <td>37.2</td>\n    </tr>\n    <tr>\n      <th>31387</th>\n      <td>31387</td>\n      <td>YYQRTLGAELLYKISFGEMPKSAQDSAENCPSGMQFPDTAIAHANV...</td>\n      <td>7.0</td>\n      <td>doi.org/10.1038/s41592-020-0801-4</td>\n      <td>64.6</td>\n    </tr>\n    <tr>\n      <th>31388</th>\n      <td>31388</td>\n      <td>YYSFSDNITTVFLSRQAIDDDHSLSLGTISDVVESENGVVAADDAR...</td>\n      <td>7.0</td>\n      <td>doi.org/10.1038/s41592-020-0801-4</td>\n      <td>50.7</td>\n    </tr>\n    <tr>\n      <th>31389</th>\n      <td>31389</td>\n      <td>YYVPDEYWQSLEVAHKLTFGYGYLTWEWVQGIRSYVYPLLIAGLYK...</td>\n      <td>7.0</td>\n      <td>doi.org/10.1038/s41592-020-0801-4</td>\n      <td>37.6</td>\n    </tr>\n  </tbody>\n</table>\n<p>31390 rows × 5 columns</p>\n</div>"
     },
     "execution_count": 3,
     "metadata": {},
     "output_type": "execute_result"
    }
   ],
   "source": [
    "\n",
    "#read the csv file into a dataframe\n",
    "df_train = pd.read_csv(r\"D:\\git\\dream_challenge_\\novozymes-enzyme-stability-prediction\\train.csv\")\n",
    "df_train"
   ],
   "metadata": {
    "collapsed": false,
    "pycharm": {
     "name": "#%%\n"
    }
   }
  },
  {
   "cell_type": "code",
   "execution_count": 4,
   "outputs": [
    {
     "data": {
      "text/plain": "      seq_id                                   protein_sequence  pH  \\\n0      31390  VPVNPEPDATSVENVAEKTGSGDSQSDPIKADLEVKGQSALPFDVD...   8   \n1      31391  VPVNPEPDATSVENVAKKTGSGDSQSDPIKADLEVKGQSALPFDVD...   8   \n2      31392  VPVNPEPDATSVENVAKTGSGDSQSDPIKADLEVKGQSALPFDVDC...   8   \n3      31393  VPVNPEPDATSVENVALCTGSGDSQSDPIKADLEVKGQSALPFDVD...   8   \n4      31394  VPVNPEPDATSVENVALFTGSGDSQSDPIKADLEVKGQSALPFDVD...   8   \n...      ...                                                ...  ..   \n2408   33798  VPVNPEPDATSVENVILKTGSGDSQSDPIKADLEVKGQSALPFDVD...   8   \n2409   33799  VPVNPEPDATSVENVLLKTGSGDSQSDPIKADLEVKGQSALPFDVD...   8   \n2410   33800  VPVNPEPDATSVENVNLKTGSGDSQSDPIKADLEVKGQSALPFDVD...   8   \n2411   33801  VPVNPEPDATSVENVPLKTGSGDSQSDPIKADLEVKGQSALPFDVD...   8   \n2412   33802  VPVNPEPDATSVENVWLKTGSGDSQSDPIKADLEVKGQSALPFDVD...   8   \n\n     data_source  \n0      Novozymes  \n1      Novozymes  \n2      Novozymes  \n3      Novozymes  \n4      Novozymes  \n...          ...  \n2408   Novozymes  \n2409   Novozymes  \n2410   Novozymes  \n2411   Novozymes  \n2412   Novozymes  \n\n[2413 rows x 4 columns]",
      "text/html": "<div>\n<style scoped>\n    .dataframe tbody tr th:only-of-type {\n        vertical-align: middle;\n    }\n\n    .dataframe tbody tr th {\n        vertical-align: top;\n    }\n\n    .dataframe thead th {\n        text-align: right;\n    }\n</style>\n<table border=\"1\" class=\"dataframe\">\n  <thead>\n    <tr style=\"text-align: right;\">\n      <th></th>\n      <th>seq_id</th>\n      <th>protein_sequence</th>\n      <th>pH</th>\n      <th>data_source</th>\n    </tr>\n  </thead>\n  <tbody>\n    <tr>\n      <th>0</th>\n      <td>31390</td>\n      <td>VPVNPEPDATSVENVAEKTGSGDSQSDPIKADLEVKGQSALPFDVD...</td>\n      <td>8</td>\n      <td>Novozymes</td>\n    </tr>\n    <tr>\n      <th>1</th>\n      <td>31391</td>\n      <td>VPVNPEPDATSVENVAKKTGSGDSQSDPIKADLEVKGQSALPFDVD...</td>\n      <td>8</td>\n      <td>Novozymes</td>\n    </tr>\n    <tr>\n      <th>2</th>\n      <td>31392</td>\n      <td>VPVNPEPDATSVENVAKTGSGDSQSDPIKADLEVKGQSALPFDVDC...</td>\n      <td>8</td>\n      <td>Novozymes</td>\n    </tr>\n    <tr>\n      <th>3</th>\n      <td>31393</td>\n      <td>VPVNPEPDATSVENVALCTGSGDSQSDPIKADLEVKGQSALPFDVD...</td>\n      <td>8</td>\n      <td>Novozymes</td>\n    </tr>\n    <tr>\n      <th>4</th>\n      <td>31394</td>\n      <td>VPVNPEPDATSVENVALFTGSGDSQSDPIKADLEVKGQSALPFDVD...</td>\n      <td>8</td>\n      <td>Novozymes</td>\n    </tr>\n    <tr>\n      <th>...</th>\n      <td>...</td>\n      <td>...</td>\n      <td>...</td>\n      <td>...</td>\n    </tr>\n    <tr>\n      <th>2408</th>\n      <td>33798</td>\n      <td>VPVNPEPDATSVENVILKTGSGDSQSDPIKADLEVKGQSALPFDVD...</td>\n      <td>8</td>\n      <td>Novozymes</td>\n    </tr>\n    <tr>\n      <th>2409</th>\n      <td>33799</td>\n      <td>VPVNPEPDATSVENVLLKTGSGDSQSDPIKADLEVKGQSALPFDVD...</td>\n      <td>8</td>\n      <td>Novozymes</td>\n    </tr>\n    <tr>\n      <th>2410</th>\n      <td>33800</td>\n      <td>VPVNPEPDATSVENVNLKTGSGDSQSDPIKADLEVKGQSALPFDVD...</td>\n      <td>8</td>\n      <td>Novozymes</td>\n    </tr>\n    <tr>\n      <th>2411</th>\n      <td>33801</td>\n      <td>VPVNPEPDATSVENVPLKTGSGDSQSDPIKADLEVKGQSALPFDVD...</td>\n      <td>8</td>\n      <td>Novozymes</td>\n    </tr>\n    <tr>\n      <th>2412</th>\n      <td>33802</td>\n      <td>VPVNPEPDATSVENVWLKTGSGDSQSDPIKADLEVKGQSALPFDVD...</td>\n      <td>8</td>\n      <td>Novozymes</td>\n    </tr>\n  </tbody>\n</table>\n<p>2413 rows × 4 columns</p>\n</div>"
     },
     "execution_count": 4,
     "metadata": {},
     "output_type": "execute_result"
    }
   ],
   "source": [
    "df_test = pd.read_csv(r\"D:\\git\\dream_challenge_\\novozymes-enzyme-stability-prediction\\test.csv\")\n",
    "df_test"
   ],
   "metadata": {
    "collapsed": false,
    "pycharm": {
     "name": "#%%\n"
    }
   }
  },
  {
   "cell_type": "code",
   "execution_count": 5,
   "outputs": [
    {
     "name": "stderr",
     "output_type": "stream",
     "text": [
      "C:\\Users\\maryg\\AppData\\Local\\Temp\\ipykernel_17904\\1147155682.py:2: FutureWarning: The frame.append method is deprecated and will be removed from pandas in a future version. Use pandas.concat instead.\n",
      "  df_append = df_append.append(df_test, ignore_index=True)\n",
      "C:\\Users\\maryg\\AppData\\Local\\Temp\\ipykernel_17904\\1147155682.py:3: FutureWarning: The frame.append method is deprecated and will be removed from pandas in a future version. Use pandas.concat instead.\n",
      "  df_append = df_append.append(df_train, ignore_index=True)\n"
     ]
    },
    {
     "data": {
      "text/plain": "       seq_id                                   protein_sequence   pH  \\\n0       31390  VPVNPEPDATSVENVAEKTGSGDSQSDPIKADLEVKGQSALPFDVD...  8.0   \n1       31391  VPVNPEPDATSVENVAKKTGSGDSQSDPIKADLEVKGQSALPFDVD...  8.0   \n2       31392  VPVNPEPDATSVENVAKTGSGDSQSDPIKADLEVKGQSALPFDVDC...  8.0   \n3       31393  VPVNPEPDATSVENVALCTGSGDSQSDPIKADLEVKGQSALPFDVD...  8.0   \n4       31394  VPVNPEPDATSVENVALFTGSGDSQSDPIKADLEVKGQSALPFDVD...  8.0   \n...       ...                                                ...  ...   \n33798   31385  YYMYSGGGSALAAGGGGAGRKGDWNDIDSIKKKDLHHSRGDEKAQG...  7.0   \n33799   31386  YYNDQHRLSSYSVETAMFLSWERAIVKPGAMFKKAVIGFNCNVDLI...  7.0   \n33800   31387  YYQRTLGAELLYKISFGEMPKSAQDSAENCPSGMQFPDTAIAHANV...  7.0   \n33801   31388  YYSFSDNITTVFLSRQAIDDDHSLSLGTISDVVESENGVVAADDAR...  7.0   \n33802   31389  YYVPDEYWQSLEVAHKLTFGYGYLTWEWVQGIRSYVYPLLIAGLYK...  7.0   \n\n                             data_source    tm  \n0                              Novozymes   NaN  \n1                              Novozymes   NaN  \n2                              Novozymes   NaN  \n3                              Novozymes   NaN  \n4                              Novozymes   NaN  \n...                                  ...   ...  \n33798  doi.org/10.1038/s41592-020-0801-4  51.8  \n33799  doi.org/10.1038/s41592-020-0801-4  37.2  \n33800  doi.org/10.1038/s41592-020-0801-4  64.6  \n33801  doi.org/10.1038/s41592-020-0801-4  50.7  \n33802  doi.org/10.1038/s41592-020-0801-4  37.6  \n\n[33803 rows x 5 columns]",
      "text/html": "<div>\n<style scoped>\n    .dataframe tbody tr th:only-of-type {\n        vertical-align: middle;\n    }\n\n    .dataframe tbody tr th {\n        vertical-align: top;\n    }\n\n    .dataframe thead th {\n        text-align: right;\n    }\n</style>\n<table border=\"1\" class=\"dataframe\">\n  <thead>\n    <tr style=\"text-align: right;\">\n      <th></th>\n      <th>seq_id</th>\n      <th>protein_sequence</th>\n      <th>pH</th>\n      <th>data_source</th>\n      <th>tm</th>\n    </tr>\n  </thead>\n  <tbody>\n    <tr>\n      <th>0</th>\n      <td>31390</td>\n      <td>VPVNPEPDATSVENVAEKTGSGDSQSDPIKADLEVKGQSALPFDVD...</td>\n      <td>8.0</td>\n      <td>Novozymes</td>\n      <td>NaN</td>\n    </tr>\n    <tr>\n      <th>1</th>\n      <td>31391</td>\n      <td>VPVNPEPDATSVENVAKKTGSGDSQSDPIKADLEVKGQSALPFDVD...</td>\n      <td>8.0</td>\n      <td>Novozymes</td>\n      <td>NaN</td>\n    </tr>\n    <tr>\n      <th>2</th>\n      <td>31392</td>\n      <td>VPVNPEPDATSVENVAKTGSGDSQSDPIKADLEVKGQSALPFDVDC...</td>\n      <td>8.0</td>\n      <td>Novozymes</td>\n      <td>NaN</td>\n    </tr>\n    <tr>\n      <th>3</th>\n      <td>31393</td>\n      <td>VPVNPEPDATSVENVALCTGSGDSQSDPIKADLEVKGQSALPFDVD...</td>\n      <td>8.0</td>\n      <td>Novozymes</td>\n      <td>NaN</td>\n    </tr>\n    <tr>\n      <th>4</th>\n      <td>31394</td>\n      <td>VPVNPEPDATSVENVALFTGSGDSQSDPIKADLEVKGQSALPFDVD...</td>\n      <td>8.0</td>\n      <td>Novozymes</td>\n      <td>NaN</td>\n    </tr>\n    <tr>\n      <th>...</th>\n      <td>...</td>\n      <td>...</td>\n      <td>...</td>\n      <td>...</td>\n      <td>...</td>\n    </tr>\n    <tr>\n      <th>33798</th>\n      <td>31385</td>\n      <td>YYMYSGGGSALAAGGGGAGRKGDWNDIDSIKKKDLHHSRGDEKAQG...</td>\n      <td>7.0</td>\n      <td>doi.org/10.1038/s41592-020-0801-4</td>\n      <td>51.8</td>\n    </tr>\n    <tr>\n      <th>33799</th>\n      <td>31386</td>\n      <td>YYNDQHRLSSYSVETAMFLSWERAIVKPGAMFKKAVIGFNCNVDLI...</td>\n      <td>7.0</td>\n      <td>doi.org/10.1038/s41592-020-0801-4</td>\n      <td>37.2</td>\n    </tr>\n    <tr>\n      <th>33800</th>\n      <td>31387</td>\n      <td>YYQRTLGAELLYKISFGEMPKSAQDSAENCPSGMQFPDTAIAHANV...</td>\n      <td>7.0</td>\n      <td>doi.org/10.1038/s41592-020-0801-4</td>\n      <td>64.6</td>\n    </tr>\n    <tr>\n      <th>33801</th>\n      <td>31388</td>\n      <td>YYSFSDNITTVFLSRQAIDDDHSLSLGTISDVVESENGVVAADDAR...</td>\n      <td>7.0</td>\n      <td>doi.org/10.1038/s41592-020-0801-4</td>\n      <td>50.7</td>\n    </tr>\n    <tr>\n      <th>33802</th>\n      <td>31389</td>\n      <td>YYVPDEYWQSLEVAHKLTFGYGYLTWEWVQGIRSYVYPLLIAGLYK...</td>\n      <td>7.0</td>\n      <td>doi.org/10.1038/s41592-020-0801-4</td>\n      <td>37.6</td>\n    </tr>\n  </tbody>\n</table>\n<p>33803 rows × 5 columns</p>\n</div>"
     },
     "execution_count": 5,
     "metadata": {},
     "output_type": "execute_result"
    }
   ],
   "source": [
    "df_append = pd.DataFrame()\n",
    "df_append = df_append.append(df_test, ignore_index=True)\n",
    "df_append = df_append.append(df_train, ignore_index=True)\n",
    "df_append"
   ],
   "metadata": {
    "collapsed": false,
    "pycharm": {
     "name": "#%%\n"
    }
   }
  },
  {
   "cell_type": "code",
   "execution_count": 6,
   "outputs": [],
   "source": [
    "data=df_append"
   ],
   "metadata": {
    "collapsed": false,
    "pycharm": {
     "name": "#%%\n"
    }
   }
  },
  {
   "cell_type": "markdown",
   "source": [
    "### Sumario dos dados"
   ],
   "metadata": {
    "collapsed": false,
    "pycharm": {
     "name": "#%% md\n"
    }
   }
  },
  {
   "cell_type": "code",
   "execution_count": 7,
   "outputs": [
    {
     "data": {
      "text/plain": "             seq_id            pH            tm\ncount  33803.000000  33517.000000  31390.000000\nmean   16901.000000      6.972083     49.147337\nstd     9758.229911      1.579274     14.010089\nmin        0.000000      1.990000     -1.000000\n25%     8450.500000      7.000000     42.100000\n50%    16901.000000      7.000000     48.000000\n75%    25351.500000      7.000000     53.800000\nmax    33802.000000     64.900000    130.000000",
      "text/html": "<div>\n<style scoped>\n    .dataframe tbody tr th:only-of-type {\n        vertical-align: middle;\n    }\n\n    .dataframe tbody tr th {\n        vertical-align: top;\n    }\n\n    .dataframe thead th {\n        text-align: right;\n    }\n</style>\n<table border=\"1\" class=\"dataframe\">\n  <thead>\n    <tr style=\"text-align: right;\">\n      <th></th>\n      <th>seq_id</th>\n      <th>pH</th>\n      <th>tm</th>\n    </tr>\n  </thead>\n  <tbody>\n    <tr>\n      <th>count</th>\n      <td>33803.000000</td>\n      <td>33517.000000</td>\n      <td>31390.000000</td>\n    </tr>\n    <tr>\n      <th>mean</th>\n      <td>16901.000000</td>\n      <td>6.972083</td>\n      <td>49.147337</td>\n    </tr>\n    <tr>\n      <th>std</th>\n      <td>9758.229911</td>\n      <td>1.579274</td>\n      <td>14.010089</td>\n    </tr>\n    <tr>\n      <th>min</th>\n      <td>0.000000</td>\n      <td>1.990000</td>\n      <td>-1.000000</td>\n    </tr>\n    <tr>\n      <th>25%</th>\n      <td>8450.500000</td>\n      <td>7.000000</td>\n      <td>42.100000</td>\n    </tr>\n    <tr>\n      <th>50%</th>\n      <td>16901.000000</td>\n      <td>7.000000</td>\n      <td>48.000000</td>\n    </tr>\n    <tr>\n      <th>75%</th>\n      <td>25351.500000</td>\n      <td>7.000000</td>\n      <td>53.800000</td>\n    </tr>\n    <tr>\n      <th>max</th>\n      <td>33802.000000</td>\n      <td>64.900000</td>\n      <td>130.000000</td>\n    </tr>\n  </tbody>\n</table>\n</div>"
     },
     "execution_count": 7,
     "metadata": {},
     "output_type": "execute_result"
    }
   ],
   "source": [
    "data.describe()"
   ],
   "metadata": {
    "collapsed": false,
    "pycharm": {
     "name": "#%%\n"
    }
   }
  },
  {
   "cell_type": "code",
   "execution_count": 9,
   "outputs": [
    {
     "data": {
      "text/plain": "pH\n1.99       2\n2.00     111\n2.02       3\n2.03       3\n2.10      13\n        ... \n48.40     12\n49.00      5\n53.40      4\n55.60      5\n64.90      2\nLength: 115, dtype: int64"
     },
     "execution_count": 9,
     "metadata": {},
     "output_type": "execute_result"
    }
   ],
   "source": [
    "data.groupby('pH').size()"
   ],
   "metadata": {
    "collapsed": false,
    "pycharm": {
     "name": "#%%\n"
    }
   }
  },
  {
   "cell_type": "code",
   "execution_count": 11,
   "outputs": [
    {
     "ename": "TypeError",
     "evalue": "unsupported operand type(s) for +: 'float' and 'str'",
     "output_type": "error",
     "traceback": [
      "\u001B[1;31m---------------------------------------------------------------------------\u001B[0m",
      "\u001B[1;31mTypeError\u001B[0m                                 Traceback (most recent call last)",
      "Input \u001B[1;32mIn [11]\u001B[0m, in \u001B[0;36m<cell line: 1>\u001B[1;34m()\u001B[0m\n\u001B[1;32m----> 1\u001B[0m \u001B[43mdata\u001B[49m\u001B[38;5;241;43m.\u001B[39;49m\u001B[43mapply\u001B[49m\u001B[43m(\u001B[49m\u001B[38;5;28;43;01mlambda\u001B[39;49;00m\u001B[43m \u001B[49m\u001B[43mx\u001B[49m\u001B[43m:\u001B[49m\u001B[43m \u001B[49m\u001B[38;5;28;43mfloat\u001B[39;49m\u001B[43m(\u001B[49m\u001B[43mx\u001B[49m\u001B[38;5;241;43m.\u001B[39;49m\u001B[43mmin\u001B[49m\u001B[43m(\u001B[49m\u001B[43m)\u001B[49m\u001B[43m)\u001B[49m\u001B[38;5;241;43m+\u001B[39;49m\u001B[38;5;124;43m\"\u001B[39;49m\u001B[38;5;124;43m---\u001B[39;49m\u001B[38;5;124;43m\"\u001B[39;49m\u001B[38;5;241;43m+\u001B[39;49m\u001B[38;5;28;43mfloat\u001B[39;49m\u001B[43m(\u001B[49m\u001B[43m \u001B[49m\u001B[43mx\u001B[49m\u001B[38;5;241;43m.\u001B[39;49m\u001B[43mmax\u001B[49m\u001B[43m(\u001B[49m\u001B[43m)\u001B[49m\u001B[43m)\u001B[49m\u001B[43m)\u001B[49m\n",
      "File \u001B[1;32mc:\\users\\maryg\\pycharmprojects\\pythonproject\\venv\\lib\\site-packages\\pandas\\core\\frame.py:9558\u001B[0m, in \u001B[0;36mDataFrame.apply\u001B[1;34m(self, func, axis, raw, result_type, args, **kwargs)\u001B[0m\n\u001B[0;32m   9547\u001B[0m \u001B[38;5;28;01mfrom\u001B[39;00m \u001B[38;5;21;01mpandas\u001B[39;00m\u001B[38;5;21;01m.\u001B[39;00m\u001B[38;5;21;01mcore\u001B[39;00m\u001B[38;5;21;01m.\u001B[39;00m\u001B[38;5;21;01mapply\u001B[39;00m \u001B[38;5;28;01mimport\u001B[39;00m frame_apply\n\u001B[0;32m   9549\u001B[0m op \u001B[38;5;241m=\u001B[39m frame_apply(\n\u001B[0;32m   9550\u001B[0m     \u001B[38;5;28mself\u001B[39m,\n\u001B[0;32m   9551\u001B[0m     func\u001B[38;5;241m=\u001B[39mfunc,\n\u001B[1;32m   (...)\u001B[0m\n\u001B[0;32m   9556\u001B[0m     kwargs\u001B[38;5;241m=\u001B[39mkwargs,\n\u001B[0;32m   9557\u001B[0m )\n\u001B[1;32m-> 9558\u001B[0m \u001B[38;5;28;01mreturn\u001B[39;00m \u001B[43mop\u001B[49m\u001B[38;5;241;43m.\u001B[39;49m\u001B[43mapply\u001B[49m\u001B[43m(\u001B[49m\u001B[43m)\u001B[49m\u001B[38;5;241m.\u001B[39m__finalize__(\u001B[38;5;28mself\u001B[39m, method\u001B[38;5;241m=\u001B[39m\u001B[38;5;124m\"\u001B[39m\u001B[38;5;124mapply\u001B[39m\u001B[38;5;124m\"\u001B[39m)\n",
      "File \u001B[1;32mc:\\users\\maryg\\pycharmprojects\\pythonproject\\venv\\lib\\site-packages\\pandas\\core\\apply.py:741\u001B[0m, in \u001B[0;36mFrameApply.apply\u001B[1;34m(self)\u001B[0m\n\u001B[0;32m    738\u001B[0m \u001B[38;5;28;01melif\u001B[39;00m \u001B[38;5;28mself\u001B[39m\u001B[38;5;241m.\u001B[39mraw:\n\u001B[0;32m    739\u001B[0m     \u001B[38;5;28;01mreturn\u001B[39;00m \u001B[38;5;28mself\u001B[39m\u001B[38;5;241m.\u001B[39mapply_raw()\n\u001B[1;32m--> 741\u001B[0m \u001B[38;5;28;01mreturn\u001B[39;00m \u001B[38;5;28;43mself\u001B[39;49m\u001B[38;5;241;43m.\u001B[39;49m\u001B[43mapply_standard\u001B[49m\u001B[43m(\u001B[49m\u001B[43m)\u001B[49m\n",
      "File \u001B[1;32mc:\\users\\maryg\\pycharmprojects\\pythonproject\\venv\\lib\\site-packages\\pandas\\core\\apply.py:868\u001B[0m, in \u001B[0;36mFrameApply.apply_standard\u001B[1;34m(self)\u001B[0m\n\u001B[0;32m    867\u001B[0m \u001B[38;5;28;01mdef\u001B[39;00m \u001B[38;5;21mapply_standard\u001B[39m(\u001B[38;5;28mself\u001B[39m):\n\u001B[1;32m--> 868\u001B[0m     results, res_index \u001B[38;5;241m=\u001B[39m \u001B[38;5;28;43mself\u001B[39;49m\u001B[38;5;241;43m.\u001B[39;49m\u001B[43mapply_series_generator\u001B[49m\u001B[43m(\u001B[49m\u001B[43m)\u001B[49m\n\u001B[0;32m    870\u001B[0m     \u001B[38;5;66;03m# wrap results\u001B[39;00m\n\u001B[0;32m    871\u001B[0m     \u001B[38;5;28;01mreturn\u001B[39;00m \u001B[38;5;28mself\u001B[39m\u001B[38;5;241m.\u001B[39mwrap_results(results, res_index)\n",
      "File \u001B[1;32mc:\\users\\maryg\\pycharmprojects\\pythonproject\\venv\\lib\\site-packages\\pandas\\core\\apply.py:884\u001B[0m, in \u001B[0;36mFrameApply.apply_series_generator\u001B[1;34m(self)\u001B[0m\n\u001B[0;32m    881\u001B[0m \u001B[38;5;28;01mwith\u001B[39;00m option_context(\u001B[38;5;124m\"\u001B[39m\u001B[38;5;124mmode.chained_assignment\u001B[39m\u001B[38;5;124m\"\u001B[39m, \u001B[38;5;28;01mNone\u001B[39;00m):\n\u001B[0;32m    882\u001B[0m     \u001B[38;5;28;01mfor\u001B[39;00m i, v \u001B[38;5;129;01min\u001B[39;00m \u001B[38;5;28menumerate\u001B[39m(series_gen):\n\u001B[0;32m    883\u001B[0m         \u001B[38;5;66;03m# ignore SettingWithCopy here in case the user mutates\u001B[39;00m\n\u001B[1;32m--> 884\u001B[0m         results[i] \u001B[38;5;241m=\u001B[39m \u001B[38;5;28;43mself\u001B[39;49m\u001B[38;5;241;43m.\u001B[39;49m\u001B[43mf\u001B[49m\u001B[43m(\u001B[49m\u001B[43mv\u001B[49m\u001B[43m)\u001B[49m\n\u001B[0;32m    885\u001B[0m         \u001B[38;5;28;01mif\u001B[39;00m \u001B[38;5;28misinstance\u001B[39m(results[i], ABCSeries):\n\u001B[0;32m    886\u001B[0m             \u001B[38;5;66;03m# If we have a view on v, we need to make a copy because\u001B[39;00m\n\u001B[0;32m    887\u001B[0m             \u001B[38;5;66;03m#  series_generator will swap out the underlying data\u001B[39;00m\n\u001B[0;32m    888\u001B[0m             results[i] \u001B[38;5;241m=\u001B[39m results[i]\u001B[38;5;241m.\u001B[39mcopy(deep\u001B[38;5;241m=\u001B[39m\u001B[38;5;28;01mFalse\u001B[39;00m)\n",
      "Input \u001B[1;32mIn [11]\u001B[0m, in \u001B[0;36m<lambda>\u001B[1;34m(x)\u001B[0m\n\u001B[1;32m----> 1\u001B[0m data\u001B[38;5;241m.\u001B[39mapply(\u001B[38;5;28;01mlambda\u001B[39;00m x: \u001B[38;5;28;43mfloat\u001B[39;49m\u001B[43m(\u001B[49m\u001B[43mx\u001B[49m\u001B[38;5;241;43m.\u001B[39;49m\u001B[43mmin\u001B[49m\u001B[43m(\u001B[49m\u001B[43m)\u001B[49m\u001B[43m)\u001B[49m\u001B[38;5;241;43m+\u001B[39;49m\u001B[38;5;124;43m\"\u001B[39;49m\u001B[38;5;124;43m---\u001B[39;49m\u001B[38;5;124;43m\"\u001B[39;49m\u001B[38;5;241m+\u001B[39m\u001B[38;5;28mfloat\u001B[39m( x\u001B[38;5;241m.\u001B[39mmax()))\n",
      "\u001B[1;31mTypeError\u001B[0m: unsupported operand type(s) for +: 'float' and 'str'"
     ]
    }
   ],
   "source": [],
   "metadata": {
    "collapsed": false,
    "pycharm": {
     "name": "#%%\n"
    }
   }
  },
  {
   "cell_type": "code",
   "execution_count": null,
   "outputs": [],
   "source": [],
   "metadata": {
    "collapsed": false,
    "pycharm": {
     "name": "#%%\n"
    }
   }
  }
 ],
 "metadata": {
  "kernelspec": {
   "display_name": "Python 3",
   "language": "python",
   "name": "python3"
  },
  "language_info": {
   "codemirror_mode": {
    "name": "ipython",
    "version": 2
   },
   "file_extension": ".py",
   "mimetype": "text/x-python",
   "name": "python",
   "nbconvert_exporter": "python",
   "pygments_lexer": "ipython2",
   "version": "2.7.6"
  }
 },
 "nbformat": 4,
 "nbformat_minor": 0
}